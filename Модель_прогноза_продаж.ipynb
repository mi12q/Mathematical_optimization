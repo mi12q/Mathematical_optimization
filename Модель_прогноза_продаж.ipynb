{
 "cells": [
  {
   "cell_type": "code",
   "execution_count": 512,
   "id": "edec3578-fb47-4732-84ba-103b1c73458b",
   "metadata": {},
   "outputs": [],
   "source": [
    "import pandas as pd\n",
    "import numpy as np\n",
    "import matplotlib.pyplot as plt\n",
    "import random\n",
    "import seaborn as sns"
   ]
  },
  {
   "cell_type": "markdown",
   "id": "b5522511-af07-42bd-96a2-49b11f157b1a",
   "metadata": {},
   "source": [
    "## Данные задачи"
   ]
  },
  {
   "cell_type": "code",
   "execution_count": 507,
   "id": "b703171e-b1a5-46b6-805a-ef365ac773d9",
   "metadata": {},
   "outputs": [],
   "source": [
    "product_rels = pd.read_pickle('product_rels.pkl')\n",
    "shop_info = pd.read_pickle('shop_info.pkl')\n",
    "prices = pd.read_csv('prices.csv')\n",
    "prices = prices.iloc[:, 2:]"
   ]
  },
  {
   "cell_type": "code",
   "execution_count": 508,
   "id": "e84e85f0-e6ec-4485-bea6-8c70289fa95b",
   "metadata": {},
   "outputs": [
    {
     "data": {
      "text/html": [
       "<div>\n",
       "<style scoped>\n",
       "    .dataframe tbody tr th:only-of-type {\n",
       "        vertical-align: middle;\n",
       "    }\n",
       "\n",
       "    .dataframe tbody tr th {\n",
       "        vertical-align: top;\n",
       "    }\n",
       "\n",
       "    .dataframe thead th {\n",
       "        text-align: right;\n",
       "    }\n",
       "</style>\n",
       "<table border=\"1\" class=\"dataframe\">\n",
       "  <thead>\n",
       "    <tr style=\"text-align: right;\">\n",
       "      <th></th>\n",
       "      <th>price_apple</th>\n",
       "      <th>price_banana</th>\n",
       "      <th>price_pear</th>\n",
       "      <th>price_orange</th>\n",
       "      <th>price_lemon</th>\n",
       "    </tr>\n",
       "  </thead>\n",
       "  <tbody>\n",
       "    <tr>\n",
       "      <th>0</th>\n",
       "      <td>90.0</td>\n",
       "      <td>80.0</td>\n",
       "      <td>130.0</td>\n",
       "      <td>100.0</td>\n",
       "      <td>110.0</td>\n",
       "    </tr>\n",
       "    <tr>\n",
       "      <th>1</th>\n",
       "      <td>90.0</td>\n",
       "      <td>80.0</td>\n",
       "      <td>130.0</td>\n",
       "      <td>100.0</td>\n",
       "      <td>110.0</td>\n",
       "    </tr>\n",
       "    <tr>\n",
       "      <th>2</th>\n",
       "      <td>90.0</td>\n",
       "      <td>80.0</td>\n",
       "      <td>130.0</td>\n",
       "      <td>100.0</td>\n",
       "      <td>110.0</td>\n",
       "    </tr>\n",
       "    <tr>\n",
       "      <th>3</th>\n",
       "      <td>90.0</td>\n",
       "      <td>80.0</td>\n",
       "      <td>130.0</td>\n",
       "      <td>100.0</td>\n",
       "      <td>110.0</td>\n",
       "    </tr>\n",
       "    <tr>\n",
       "      <th>4</th>\n",
       "      <td>90.0</td>\n",
       "      <td>80.0</td>\n",
       "      <td>130.0</td>\n",
       "      <td>100.0</td>\n",
       "      <td>110.0</td>\n",
       "    </tr>\n",
       "    <tr>\n",
       "      <th>...</th>\n",
       "      <td>...</td>\n",
       "      <td>...</td>\n",
       "      <td>...</td>\n",
       "      <td>...</td>\n",
       "      <td>...</td>\n",
       "    </tr>\n",
       "    <tr>\n",
       "      <th>155</th>\n",
       "      <td>115.0</td>\n",
       "      <td>80.0</td>\n",
       "      <td>140.0</td>\n",
       "      <td>110.0</td>\n",
       "      <td>120.0</td>\n",
       "    </tr>\n",
       "    <tr>\n",
       "      <th>156</th>\n",
       "      <td>115.0</td>\n",
       "      <td>80.0</td>\n",
       "      <td>140.0</td>\n",
       "      <td>110.0</td>\n",
       "      <td>120.0</td>\n",
       "    </tr>\n",
       "    <tr>\n",
       "      <th>157</th>\n",
       "      <td>110.0</td>\n",
       "      <td>80.0</td>\n",
       "      <td>135.0</td>\n",
       "      <td>100.0</td>\n",
       "      <td>110.0</td>\n",
       "    </tr>\n",
       "    <tr>\n",
       "      <th>158</th>\n",
       "      <td>110.0</td>\n",
       "      <td>80.0</td>\n",
       "      <td>135.0</td>\n",
       "      <td>100.0</td>\n",
       "      <td>110.0</td>\n",
       "    </tr>\n",
       "    <tr>\n",
       "      <th>159</th>\n",
       "      <td>110.0</td>\n",
       "      <td>80.0</td>\n",
       "      <td>135.0</td>\n",
       "      <td>100.0</td>\n",
       "      <td>110.0</td>\n",
       "    </tr>\n",
       "  </tbody>\n",
       "</table>\n",
       "<p>160 rows × 5 columns</p>\n",
       "</div>"
      ],
      "text/plain": [
       "     price_apple  price_banana  price_pear  price_orange  price_lemon\n",
       "0           90.0          80.0       130.0         100.0        110.0\n",
       "1           90.0          80.0       130.0         100.0        110.0\n",
       "2           90.0          80.0       130.0         100.0        110.0\n",
       "3           90.0          80.0       130.0         100.0        110.0\n",
       "4           90.0          80.0       130.0         100.0        110.0\n",
       "..           ...           ...         ...           ...          ...\n",
       "155        115.0          80.0       140.0         110.0        120.0\n",
       "156        115.0          80.0       140.0         110.0        120.0\n",
       "157        110.0          80.0       135.0         100.0        110.0\n",
       "158        110.0          80.0       135.0         100.0        110.0\n",
       "159        110.0          80.0       135.0         100.0        110.0\n",
       "\n",
       "[160 rows x 5 columns]"
      ]
     },
     "execution_count": 508,
     "metadata": {},
     "output_type": "execute_result"
    }
   ],
   "source": [
    "prices"
   ]
  },
  {
   "cell_type": "code",
   "execution_count": 509,
   "id": "70771709-382d-4ce2-82be-5af0ca48512e",
   "metadata": {},
   "outputs": [],
   "source": [
    "product_rels = pd.DataFrame(product_rels, index=[0])\n",
    "shop_info = pd.DataFrame(shop_info)\n",
    "shop_info\n",
    "shop_info = shop_info.iloc[2:,]"
   ]
  },
  {
   "cell_type": "code",
   "execution_count": 510,
   "id": "4f7eb069-ab64-40a8-9562-e40ac81afc91",
   "metadata": {},
   "outputs": [
    {
     "data": {
      "text/html": [
       "<div>\n",
       "<style scoped>\n",
       "    .dataframe tbody tr th:only-of-type {\n",
       "        vertical-align: middle;\n",
       "    }\n",
       "\n",
       "    .dataframe tbody tr th {\n",
       "        vertical-align: top;\n",
       "    }\n",
       "\n",
       "    .dataframe thead th {\n",
       "        text-align: right;\n",
       "    }\n",
       "</style>\n",
       "<table border=\"1\" class=\"dataframe\">\n",
       "  <thead>\n",
       "    <tr style=\"text-align: right;\">\n",
       "      <th></th>\n",
       "      <th>0</th>\n",
       "      <th>1</th>\n",
       "      <th>2</th>\n",
       "      <th>3</th>\n",
       "      <th>4</th>\n",
       "      <th>5</th>\n",
       "      <th>6</th>\n",
       "      <th>7</th>\n",
       "      <th>8</th>\n",
       "      <th>9</th>\n",
       "      <th>...</th>\n",
       "      <th>49</th>\n",
       "      <th>50</th>\n",
       "      <th>51</th>\n",
       "      <th>52</th>\n",
       "      <th>53</th>\n",
       "      <th>54</th>\n",
       "      <th>55</th>\n",
       "      <th>56</th>\n",
       "      <th>57</th>\n",
       "      <th>58</th>\n",
       "    </tr>\n",
       "  </thead>\n",
       "  <tbody>\n",
       "    <tr>\n",
       "      <th>apple</th>\n",
       "      <td>825.0</td>\n",
       "      <td>618.0</td>\n",
       "      <td>2144.0</td>\n",
       "      <td>727.0</td>\n",
       "      <td>667.0</td>\n",
       "      <td>2067.0</td>\n",
       "      <td>630.0</td>\n",
       "      <td>676.0</td>\n",
       "      <td>671.0</td>\n",
       "      <td>699.0</td>\n",
       "      <td>...</td>\n",
       "      <td>691.0</td>\n",
       "      <td>2226.0</td>\n",
       "      <td>784.0</td>\n",
       "      <td>795.0</td>\n",
       "      <td>859.0</td>\n",
       "      <td>770.0</td>\n",
       "      <td>870.0</td>\n",
       "      <td>668.0</td>\n",
       "      <td>2071.0</td>\n",
       "      <td>588.0</td>\n",
       "    </tr>\n",
       "    <tr>\n",
       "      <th>banana</th>\n",
       "      <td>309.0</td>\n",
       "      <td>358.0</td>\n",
       "      <td>1020.0</td>\n",
       "      <td>349.0</td>\n",
       "      <td>272.0</td>\n",
       "      <td>911.0</td>\n",
       "      <td>347.0</td>\n",
       "      <td>272.0</td>\n",
       "      <td>327.0</td>\n",
       "      <td>352.0</td>\n",
       "      <td>...</td>\n",
       "      <td>281.0</td>\n",
       "      <td>1119.0</td>\n",
       "      <td>315.0</td>\n",
       "      <td>301.0</td>\n",
       "      <td>312.0</td>\n",
       "      <td>350.0</td>\n",
       "      <td>409.0</td>\n",
       "      <td>328.0</td>\n",
       "      <td>957.0</td>\n",
       "      <td>381.0</td>\n",
       "    </tr>\n",
       "    <tr>\n",
       "      <th>pear</th>\n",
       "      <td>416.0</td>\n",
       "      <td>459.0</td>\n",
       "      <td>1147.0</td>\n",
       "      <td>418.0</td>\n",
       "      <td>409.0</td>\n",
       "      <td>1288.0</td>\n",
       "      <td>394.0</td>\n",
       "      <td>359.0</td>\n",
       "      <td>368.0</td>\n",
       "      <td>367.0</td>\n",
       "      <td>...</td>\n",
       "      <td>378.0</td>\n",
       "      <td>900.0</td>\n",
       "      <td>409.0</td>\n",
       "      <td>451.0</td>\n",
       "      <td>464.0</td>\n",
       "      <td>464.0</td>\n",
       "      <td>459.0</td>\n",
       "      <td>297.0</td>\n",
       "      <td>1325.0</td>\n",
       "      <td>451.0</td>\n",
       "    </tr>\n",
       "    <tr>\n",
       "      <th>orange</th>\n",
       "      <td>522.0</td>\n",
       "      <td>460.0</td>\n",
       "      <td>1660.0</td>\n",
       "      <td>556.0</td>\n",
       "      <td>556.0</td>\n",
       "      <td>1366.0</td>\n",
       "      <td>478.0</td>\n",
       "      <td>564.0</td>\n",
       "      <td>464.0</td>\n",
       "      <td>449.0</td>\n",
       "      <td>...</td>\n",
       "      <td>472.0</td>\n",
       "      <td>1412.0</td>\n",
       "      <td>444.0</td>\n",
       "      <td>493.0</td>\n",
       "      <td>534.0</td>\n",
       "      <td>462.0</td>\n",
       "      <td>526.0</td>\n",
       "      <td>499.0</td>\n",
       "      <td>1715.0</td>\n",
       "      <td>529.0</td>\n",
       "    </tr>\n",
       "    <tr>\n",
       "      <th>lemon</th>\n",
       "      <td>571.0</td>\n",
       "      <td>657.0</td>\n",
       "      <td>1599.0</td>\n",
       "      <td>437.0</td>\n",
       "      <td>634.0</td>\n",
       "      <td>1750.0</td>\n",
       "      <td>585.0</td>\n",
       "      <td>593.0</td>\n",
       "      <td>658.0</td>\n",
       "      <td>583.0</td>\n",
       "      <td>...</td>\n",
       "      <td>516.0</td>\n",
       "      <td>1593.0</td>\n",
       "      <td>608.0</td>\n",
       "      <td>603.0</td>\n",
       "      <td>615.0</td>\n",
       "      <td>637.0</td>\n",
       "      <td>614.0</td>\n",
       "      <td>616.0</td>\n",
       "      <td>1813.0</td>\n",
       "      <td>537.0</td>\n",
       "    </tr>\n",
       "  </tbody>\n",
       "</table>\n",
       "<p>5 rows × 59 columns</p>\n",
       "</div>"
      ],
      "text/plain": [
       "           0      1       2      3      4       5      6      7      8   \\\n",
       "apple   825.0  618.0  2144.0  727.0  667.0  2067.0  630.0  676.0  671.0   \n",
       "banana  309.0  358.0  1020.0  349.0  272.0   911.0  347.0  272.0  327.0   \n",
       "pear    416.0  459.0  1147.0  418.0  409.0  1288.0  394.0  359.0  368.0   \n",
       "orange  522.0  460.0  1660.0  556.0  556.0  1366.0  478.0  564.0  464.0   \n",
       "lemon   571.0  657.0  1599.0  437.0  634.0  1750.0  585.0  593.0  658.0   \n",
       "\n",
       "           9   ...     49      50     51     52     53     54     55     56  \\\n",
       "apple   699.0  ...  691.0  2226.0  784.0  795.0  859.0  770.0  870.0  668.0   \n",
       "banana  352.0  ...  281.0  1119.0  315.0  301.0  312.0  350.0  409.0  328.0   \n",
       "pear    367.0  ...  378.0   900.0  409.0  451.0  464.0  464.0  459.0  297.0   \n",
       "orange  449.0  ...  472.0  1412.0  444.0  493.0  534.0  462.0  526.0  499.0   \n",
       "lemon   583.0  ...  516.0  1593.0  608.0  603.0  615.0  637.0  614.0  616.0   \n",
       "\n",
       "            57     58  \n",
       "apple   2071.0  588.0  \n",
       "banana   957.0  381.0  \n",
       "pear    1325.0  451.0  \n",
       "orange  1715.0  529.0  \n",
       "lemon   1813.0  537.0  \n",
       "\n",
       "[5 rows x 59 columns]"
      ]
     },
     "execution_count": 510,
     "metadata": {},
     "output_type": "execute_result"
    }
   ],
   "source": [
    "shop_info"
   ]
  },
  {
   "cell_type": "code",
   "execution_count": 479,
   "id": "5e5e82d6-1ee7-4962-a464-626c9d82b8cb",
   "metadata": {},
   "outputs": [
    {
     "name": "stdout",
     "output_type": "stream",
     "text": [
      "[[0.0, 0.15, -0.15, 0.17, 0.17], [0.15, 0.0, 0.12, 0.1, 0.1], [-0.15, 0.12, 0.0, 0.12, 0.12], [0.17, 0.1, 0.12, 0.0, -0.19], [0.17, 0.1, 0.12, -0.19, 0.0]]\n"
     ]
    }
   ],
   "source": [
    "relations = []\n",
    "fruits = ['apple','banana','pear','orange','lemon']\n",
    "for fruit in fruits:\n",
    "    list = product_rels[fruit].values.tolist()[0]\n",
    "    relations.append(list)\n",
    "print(relations)"
   ]
  },
  {
   "cell_type": "code",
   "execution_count": 515,
   "id": "9783bfdb-1b4b-4990-9806-b0d4570c1092",
   "metadata": {},
   "outputs": [
    {
     "data": {
      "image/png": "[encoded data removed]",
      "text/plain": [
       "<Figure size 1000x800 with 2 Axes>"
      ]
     },
     "metadata": {},
     "output_type": "display_data"
    }
   ],
   "source": [
    "plt.figure(figsize=(10, 8))\n",
    "sns.heatmap(relations, annot=True, cmap='coolwarm', square=True, linewidths=.5)\n",
    "plt.title('Correlation Map')\n",
    "plt.show()"
   ]
  },
  {
   "cell_type": "code",
   "execution_count": 517,
   "id": "0f20a3e7-2ada-44c1-ba6a-6996752a2251",
   "metadata": {},
   "outputs": [],
   "source": [
    "prices = prices.rename(columns={'price_apple': 'apple', 'price_banana' : 'banana', 'price_pear' : 'pear', 'price_orange' : 'orange', 'price_lemon' : 'lemon'})"
   ]
  },
  {
   "cell_type": "markdown",
   "id": "cdb1afa7-e7ce-420f-83b1-5cdc82efe15d",
   "metadata": {},
   "source": [
    "## Модель прогноза продаж"
   ]
  },
  {
   "cell_type": "markdown",
   "id": "6ad1ccaf-d583-4347-baa1-39f04e5e44ef",
   "metadata": {},
   "source": [
    "### Используем pyomo и солвер ipopt"
   ]
  },
  {
   "cell_type": "code",
   "execution_count": 471,
   "id": "e90c5092-8391-4abd-b386-9adb3ea001b5",
   "metadata": {},
   "outputs": [],
   "source": [
    "from pyomo.environ import *\n",
    "from pyomo.opt import SolverFactory"
   ]
  },
  {
   "cell_type": "markdown",
   "id": "61ad695a-7abc-4728-9a38-2e63c8228896",
   "metadata": {},
   "source": [
    "### Переменные задачи"
   ]
  },
  {
   "cell_type": "code",
   "execution_count": 460,
   "id": "c0cdfa88-ab93-4fe5-8793-9dfcfd775501",
   "metadata": {},
   "outputs": [],
   "source": [
    "S = shop_info.T.shape[0] \n",
    "W = prices.shape[0] \n",
    "P = 5 \n",
    "M = shop_info.T.values \n",
    "C = relations \n",
    "r_seas = prices.values.T"
   ]
  },
  {
   "cell_type": "code",
   "execution_count": 461,
   "id": "dde6fab1-6e32-4de1-bd37-2bbd2e1a5a7c",
   "metadata": {},
   "outputs": [],
   "source": [
    "model = ConcreteModel()\n",
    "model.p = RangeSet(0, P)\n",
    "model.w = RangeSet(0, W)\n",
    "model.s = RangeSet(0, S)\n",
    "model.r = Var(model.p, model.w, domain=NonNegativeReals)"
   ]
  },
  {
   "cell_type": "markdown",
   "id": "99973521-093d-4034-831f-a3213a17e894",
   "metadata": {},
   "source": [
    "### Ограничения"
   ]
  },
  {
   "cell_type": "code",
   "execution_count": 524,
   "id": "867a4da5-891b-4b9d-93a3-571f60e6b795",
   "metadata": {},
   "outputs": [
    {
     "name": "stdout",
     "output_type": "stream",
     "text": [
      "WARNING: Implicitly replacing the Component attribute constraints (type=<class\n",
      "'pyomo.core.base.constraint.ConstraintList'>) on block unknown with a new\n",
      "Component (type=<class 'pyomo.core.base.constraint.ConstraintList'>). This is\n",
      "usually indicative of a modelling error. To avoid this warning, use\n",
      "block.del_component() and block.add_component().\n"
     ]
    }
   ],
   "source": [
    "model.constraints = ConstraintList()\n",
    "for p in range(P):\n",
    "    for w in range(W):\n",
    "        model.constraints.add(model.r[p, w] >= 0.75 * r_seas[p, w])\n",
    "        model.constraints.add(model.r[p, w] <= 1.25 * r_seas[p, w])"
   ]
  },
  {
   "cell_type": "markdown",
   "id": "c8745589-310e-495e-b40d-9ea516ebea72",
   "metadata": {},
   "source": [
    "### Ожидаемая выручка в зависимости от цены за период прогнозирования W "
   ]
  },
  {
   "cell_type": "code",
   "execution_count": 503,
   "id": "5ac6812a-5610-4378-b8be-cf9f9ec64d0d",
   "metadata": {},
   "outputs": [],
   "source": [
    "def F(model):\n",
    "    return sum(sum(sum(model.r[p,w] * (M[s,p] * (-(model.r[p,w] / r_seas[p,w]) ** 2 \n",
    "                - 0.075 * model.r[p,w] / r_seas[p,w] + 2.85) / 1.775\n",
    "             + sum((r_seas[o,w]/model.r[o,w])**2 * C[p][o] * M[s,o] for o in range(P)))\n",
    "                       for w in range(W)) for p in range(P)) for s in range(S))"
   ]
  },
  {
   "cell_type": "markdown",
   "id": "4d6cc6af-5ca3-43bd-b623-76cfc4e24b84",
   "metadata": {},
   "source": [
    "### Решение"
   ]
  },
  {
   "cell_type": "code",
   "execution_count": 520,
   "id": "dbb88687-9987-4b84-bd89-a36b5afb1004",
   "metadata": {},
   "outputs": [
    {
     "name": "stdout",
     "output_type": "stream",
     "text": [
      "WARNING: Implicitly replacing the Component attribute obj (type=<class\n",
      "'pyomo.core.base.objective.ScalarObjective'>) on block unknown with a new\n",
      "Component (type=<class 'pyomo.core.base.objective.ScalarObjective'>). This is\n",
      "usually indicative of a modelling error. To avoid this warning, use\n",
      "block.del_component() and block.add_component().\n",
      "\n",
      "Problem: \n",
      "- Lower bound: -inf\n",
      "  Upper bound: inf\n",
      "  Number of objectives: 1\n",
      "  Number of constraints: 1600\n",
      "  Number of variables: 800\n",
      "  Sense: unknown\n",
      "Solver: \n",
      "- Status: ok\n",
      "  Message: Ipopt 3.12.13\\x3a Optimal Solution Found\n",
      "  Termination condition: optimal\n",
      "  Id: 0\n",
      "  Error rc: 0\n",
      "  Time: 2.871913433074951\n",
      "Solution: \n",
      "- number of solutions: 0\n",
      "  number of solutions displayed: 0\n",
      "\n"
     ]
    }
   ],
   "source": [
    "model.obj = Objective(rule=F, sense=maximize)\n",
    "solver = SolverFactory('ipopt')\n",
    "results = solver.solve(model)\n",
    "print(results)"
   ]
  },
  {
   "cell_type": "code",
   "execution_count": 523,
   "id": "6f0975b8-49fb-4a7e-b178-8e80b5da4df4",
   "metadata": {},
   "outputs": [
    {
     "name": "stdout",
     "output_type": "stream",
     "text": [
      "Ожидаемая выручка с оптимизацией: 5155170216.513078\n"
     ]
    }
   ],
   "source": [
    "objective_value = model.obj()\n",
    "print(\"Ожидаемая выручка с оптимизацией:\", objective_value)"
   ]
  },
  {
   "cell_type": "markdown",
   "id": "f1d43c29-5438-422a-81d5-820df08f31c9",
   "metadata": {},
   "source": [
    "Получим оптимальное r"
   ]
  },
  {
   "cell_type": "code",
   "execution_count": 699,
   "id": "83119f5a-6a31-4297-b44f-b2fa12862e0d",
   "metadata": {},
   "outputs": [],
   "source": [
    "optimal_prices = np.zeros((P, W))\n",
    "for p in range(P):\n",
    "    for w in range(W):\n",
    "        optimal_prices[p, w] = model.r[p, w].value"
   ]
  },
  {
   "cell_type": "markdown",
   "id": "9339749b-eba4-4ff2-9df8-5228c102bd8c",
   "metadata": {},
   "source": [
    "### График выручки по неделям"
   ]
  },
  {
   "cell_type": "code",
   "execution_count": 635,
   "id": "c20941a2-0753-4262-9c60-26b2ee6b8985",
   "metadata": {},
   "outputs": [],
   "source": [
    "def F_calc(r: list) -> list:\n",
    "    S = shop_info.T.shape[0]\n",
    "    W = prices.shape[0]\n",
    "    P = 5\n",
    "    M = shop_info.T.values\n",
    "    C = relations\n",
    "    r_seas = prices.values.T\n",
    "\n",
    "    return [sum(sum(r[p][w] * (M[s,p] * ((-(r[p][w] / r_seas[p,w]) ** 2 \n",
    "                - 0.075 * (r[p][w] / r_seas[p,w]) + 2.85) / 1.775)\n",
    "             + sum((r_seas[o,w]/r[o][w])**(2) * C[p][o] * M[s,o] for o in range(P)))\n",
    "                       for p in range(P)) for s in range(S)) for w in range(W)]    "
   ]
  },
  {
   "cell_type": "code",
   "execution_count": 636,
   "id": "1c4554d2-a42f-437d-8400-fefc40eacd8b",
   "metadata": {},
   "outputs": [],
   "source": [
    "def generate_prices(mode):\n",
    "    W = prices.shape[0] \n",
    "    P = 5 \n",
    "    M = shop_info.T.values  \n",
    "    r_seas = prices.values.T\n",
    "    if (mode == 'min'):\n",
    "        return [[0.75*r_seas[p,w] for w in range(W)] for p in range(P)]\n",
    "    elif(mode == 'max'):\n",
    "        return [[1.25*r_seas[p,w] for w in range(W)] for p in range(P)]   \n",
    "    elif(mode == 'random'):\n",
    "        return [[random.uniform(0.75*r_seas[p,w], 1.25*r_seas[p,w]) for w in range(W)] for p in range(P)]      \n",
    "    elif (mode == 'seasonal'):\n",
    "        return r_seas\n",
    "    else:\n",
    "        raise ValueError(\"Invalid mode specified.\")"
   ]
  },
  {
   "cell_type": "code",
   "execution_count": 707,
   "id": "a6a5e51b-d9cb-428c-837c-ce6d9021cf50",
   "metadata": {},
   "outputs": [],
   "source": [
    "weeks = np.arange(0, 25) \n",
    "y_min = generate_prices('min')\n",
    "y_max = generate_prices('max')\n",
    "y_rand = generate_prices('random')\n",
    "y_seas = generate_prices('seasonal')\n",
    "\n",
    "revenue_min = F_calc(y_min)[0:25]\n",
    "revenue_max = F_calc(y_max)[0:25]\n",
    "revenue_rand = F_calc(y_rand)[0:25]\n",
    "revenue_seas = F_calc(y_seas)[0:25]\n",
    "revenue_opt = F_calc(optimal_prices)[0:25]"
   ]
  },
  {
   "cell_type": "code",
   "execution_count": 711,
   "id": "8d242d4e-8e0c-4d19-a1f4-a0e6299ea5f9",
   "metadata": {},
   "outputs": [
    {
     "data": {
      "image/png": "[encoded data removed]",
      "text/plain": [
       "<Figure size 1200x600 with 1 Axes>"
      ]
     },
     "metadata": {},
     "output_type": "display_data"
    },
    {
     "data": {
      "text/plain": [
       "<Figure size 640x480 with 0 Axes>"
      ]
     },
     "metadata": {},
     "output_type": "display_data"
    }
   ],
   "source": [
    "data_melted = pd.DataFrame({\n",
    "    'Week': np.tile(weeks, 5),\n",
    "    'Price': np.concatenate([revenue_min, revenue_max, revenue_rand, revenue_seas, revenue_opt]),\n",
    "    'Price Type': ['Min values'] * len(weeks) + ['Max values'] * len(weeks) + ['Random values'] * len(weeks) + ['Seasonal values'] * len(weeks)\n",
    "    + ['Optimal values'] * len(weeks)\n",
    "})\n",
    "\n",
    "sns.set(style=\"whitegrid\")  \n",
    "plt.figure(figsize=(12, 6))\n",
    "sns.lineplot(data=data_melted, x='Week', y='Price', hue='Price Type', marker='o')\n",
    "\n",
    "plt.title('Revenue from all stores', fontsize=16)\n",
    "plt.xlabel('Week', fontsize=14)\n",
    "plt.ylabel('Price', fontsize=14)\n",
    "plt.legend()\n",
    "plt.show()\n",
    "plt.savefig('revenue')"
   ]
  },
  {
   "cell_type": "code",
   "execution_count": null,
   "id": "fedf388c-4a99-4054-927b-3ee7ac218bf8",
   "metadata": {},
   "outputs": [],
   "source": []
  }
 ],
 "metadata": {
  "kernelspec": {
   "display_name": "Python 3 (ipykernel)",
   "language": "python",
   "name": "python3"
  },
  "language_info": {
   "codemirror_mode": {
    "name": "ipython",
    "version": 3
   },
   "file_extension": ".py",
   "mimetype": "text/x-python",
   "name": "python",
   "nbconvert_exporter": "python",
   "pygments_lexer": "ipython3",
   "version": "3.10.12"
  }
 },
 "nbformat": 4,
 "nbformat_minor": 5
}
